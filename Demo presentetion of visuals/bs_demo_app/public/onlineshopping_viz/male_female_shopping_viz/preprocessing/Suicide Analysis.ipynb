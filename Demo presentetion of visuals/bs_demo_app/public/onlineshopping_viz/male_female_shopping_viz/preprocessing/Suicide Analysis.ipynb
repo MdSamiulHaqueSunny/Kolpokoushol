{
 "cells": [
  {
   "cell_type": "code",
   "execution_count": 1,
   "metadata": {
    "collapsed": true
   },
   "outputs": [],
   "source": [
    "import pandas as pd"
   ]
  },
  {
   "cell_type": "code",
   "execution_count": 4,
   "metadata": {
    "collapsed": false
   },
   "outputs": [],
   "source": [
    "df = pd.read_csv('suicide_history.csv')"
   ]
  },
  {
   "cell_type": "code",
   "execution_count": 5,
   "metadata": {
    "collapsed": false
   },
   "outputs": [
    {
     "data": {
      "text/html": [
       "<div>\n",
       "<table border=\"1\" class=\"dataframe\">\n",
       "  <thead>\n",
       "    <tr style=\"text-align: right;\">\n",
       "      <th></th>\n",
       "      <th>Date</th>\n",
       "      <th>Age</th>\n",
       "      <th>Gender</th>\n",
       "      <th>Profession</th>\n",
       "      <th>Methodology</th>\n",
       "      <th>Reason</th>\n",
       "      <th>Time</th>\n",
       "      <th>District</th>\n",
       "      <th>Source</th>\n",
       "    </tr>\n",
       "  </thead>\n",
       "  <tbody>\n",
       "    <tr>\n",
       "      <th>0</th>\n",
       "      <td>2010-01-05</td>\n",
       "      <td>19</td>\n",
       "      <td>Female</td>\n",
       "      <td>Housewife</td>\n",
       "      <td>Hanging</td>\n",
       "      <td>Family feud</td>\n",
       "      <td>13:00:00</td>\n",
       "      <td>Dhaka</td>\n",
       "      <td>http://archive.thedailystar.net/newDesign/news...</td>\n",
       "    </tr>\n",
       "    <tr>\n",
       "      <th>1</th>\n",
       "      <td>2010-01-05</td>\n",
       "      <td>22</td>\n",
       "      <td>Male</td>\n",
       "      <td>Police</td>\n",
       "      <td>Shooting</td>\n",
       "      <td>Family feud</td>\n",
       "      <td>00:10:00</td>\n",
       "      <td>Dinajpur</td>\n",
       "      <td>http://archive.thedailystar.net/newDesign/news...</td>\n",
       "    </tr>\n",
       "    <tr>\n",
       "      <th>2</th>\n",
       "      <td>2010-01-07</td>\n",
       "      <td>45</td>\n",
       "      <td>Male</td>\n",
       "      <td>Police</td>\n",
       "      <td>Shooting</td>\n",
       "      <td>Family feud</td>\n",
       "      <td>21:15:00</td>\n",
       "      <td>Bogra</td>\n",
       "      <td>http://archive.thedailystar.net/newDesign/news...</td>\n",
       "    </tr>\n",
       "    <tr>\n",
       "      <th>3</th>\n",
       "      <td>2010-01-11</td>\n",
       "      <td>9</td>\n",
       "      <td>Male</td>\n",
       "      <td>Student</td>\n",
       "      <td>Hanging</td>\n",
       "      <td>-</td>\n",
       "      <td>02:00:00</td>\n",
       "      <td>Sirajganj</td>\n",
       "      <td>http://archive.thedailystar.net/newDesign/news...</td>\n",
       "    </tr>\n",
       "    <tr>\n",
       "      <th>4</th>\n",
       "      <td>2010-01-12</td>\n",
       "      <td>17</td>\n",
       "      <td>Female</td>\n",
       "      <td>Student</td>\n",
       "      <td>Hanging</td>\n",
       "      <td>-</td>\n",
       "      <td>13:30:00</td>\n",
       "      <td>Dhaka</td>\n",
       "      <td>http://archive.thedailystar.net/newDesign/news...</td>\n",
       "    </tr>\n",
       "  </tbody>\n",
       "</table>\n",
       "</div>"
      ],
      "text/plain": [
       "         Date  Age  Gender Profession Methodology       Reason      Time  \\\n",
       "0  2010-01-05   19  Female  Housewife     Hanging  Family feud  13:00:00   \n",
       "1  2010-01-05   22    Male     Police    Shooting  Family feud  00:10:00   \n",
       "2  2010-01-07   45    Male     Police    Shooting  Family feud  21:15:00   \n",
       "3  2010-01-11    9    Male    Student     Hanging            -  02:00:00   \n",
       "4  2010-01-12   17  Female    Student     Hanging            -  13:30:00   \n",
       "\n",
       "    District                                             Source  \n",
       "0      Dhaka  http://archive.thedailystar.net/newDesign/news...  \n",
       "1   Dinajpur  http://archive.thedailystar.net/newDesign/news...  \n",
       "2      Bogra  http://archive.thedailystar.net/newDesign/news...  \n",
       "3  Sirajganj  http://archive.thedailystar.net/newDesign/news...  \n",
       "4      Dhaka  http://archive.thedailystar.net/newDesign/news...  "
      ]
     },
     "execution_count": 5,
     "metadata": {},
     "output_type": "execute_result"
    }
   ],
   "source": [
    "df.head()"
   ]
  },
  {
   "cell_type": "code",
   "execution_count": 6,
   "metadata": {
    "collapsed": false
   },
   "outputs": [
    {
     "data": {
      "text/plain": [
       "Index([u'Date', u'Age', u'Gender', u'Profession', u'Methodology', u'Reason',\n",
       "       u'Time', u'District', u'Source'],\n",
       "      dtype='object')"
      ]
     },
     "execution_count": 6,
     "metadata": {},
     "output_type": "execute_result"
    }
   ],
   "source": [
    "df.columns"
   ]
  },
  {
   "cell_type": "code",
   "execution_count": null,
   "metadata": {
    "collapsed": false
   },
   "outputs": [],
   "source": []
  },
  {
   "cell_type": "code",
   "execution_count": 48,
   "metadata": {
    "collapsed": false
   },
   "outputs": [
    {
     "data": {
      "text/html": [
       "<div>\n",
       "<table border=\"1\" class=\"dataframe\">\n",
       "  <thead>\n",
       "    <tr style=\"text-align: right;\">\n",
       "      <th></th>\n",
       "      <th>Date</th>\n",
       "      <th>Age</th>\n",
       "      <th>Gender</th>\n",
       "      <th>Profession</th>\n",
       "      <th>Methodology</th>\n",
       "      <th>Reason</th>\n",
       "      <th>Time</th>\n",
       "      <th>District</th>\n",
       "      <th>Source</th>\n",
       "    </tr>\n",
       "  </thead>\n",
       "  <tbody>\n",
       "    <tr>\n",
       "      <th>0</th>\n",
       "      <td>2010-01-05</td>\n",
       "      <td>19</td>\n",
       "      <td>female</td>\n",
       "      <td>housewife</td>\n",
       "      <td>hanging</td>\n",
       "      <td>family feud</td>\n",
       "      <td>13:00:00</td>\n",
       "      <td>dhaka</td>\n",
       "      <td>http://archive.thedailystar.net/newDesign/news...</td>\n",
       "    </tr>\n",
       "    <tr>\n",
       "      <th>1</th>\n",
       "      <td>2010-01-05</td>\n",
       "      <td>22</td>\n",
       "      <td>male</td>\n",
       "      <td>police</td>\n",
       "      <td>shooting</td>\n",
       "      <td>family feud</td>\n",
       "      <td>00:10:00</td>\n",
       "      <td>dinajpur</td>\n",
       "      <td>http://archive.thedailystar.net/newDesign/news...</td>\n",
       "    </tr>\n",
       "    <tr>\n",
       "      <th>2</th>\n",
       "      <td>2010-01-07</td>\n",
       "      <td>45</td>\n",
       "      <td>male</td>\n",
       "      <td>police</td>\n",
       "      <td>shooting</td>\n",
       "      <td>family feud</td>\n",
       "      <td>21:15:00</td>\n",
       "      <td>bogra</td>\n",
       "      <td>http://archive.thedailystar.net/newDesign/news...</td>\n",
       "    </tr>\n",
       "    <tr>\n",
       "      <th>3</th>\n",
       "      <td>2010-01-11</td>\n",
       "      <td>9</td>\n",
       "      <td>male</td>\n",
       "      <td>student</td>\n",
       "      <td>hanging</td>\n",
       "      <td>-</td>\n",
       "      <td>02:00:00</td>\n",
       "      <td>sirajganj</td>\n",
       "      <td>http://archive.thedailystar.net/newDesign/news...</td>\n",
       "    </tr>\n",
       "    <tr>\n",
       "      <th>4</th>\n",
       "      <td>2010-01-12</td>\n",
       "      <td>17</td>\n",
       "      <td>female</td>\n",
       "      <td>student</td>\n",
       "      <td>hanging</td>\n",
       "      <td>-</td>\n",
       "      <td>13:30:00</td>\n",
       "      <td>dhaka</td>\n",
       "      <td>http://archive.thedailystar.net/newDesign/news...</td>\n",
       "    </tr>\n",
       "  </tbody>\n",
       "</table>\n",
       "</div>"
      ],
      "text/plain": [
       "         Date  Age  Gender Profession Methodology       Reason      Time  \\\n",
       "0  2010-01-05   19  female  housewife     hanging  family feud  13:00:00   \n",
       "1  2010-01-05   22    male     police    shooting  family feud  00:10:00   \n",
       "2  2010-01-07   45    male     police    shooting  family feud  21:15:00   \n",
       "3  2010-01-11    9    male    student     hanging            -  02:00:00   \n",
       "4  2010-01-12   17  female    student     hanging            -  13:30:00   \n",
       "\n",
       "    District                                             Source  \n",
       "0      dhaka  http://archive.thedailystar.net/newDesign/news...  \n",
       "1   dinajpur  http://archive.thedailystar.net/newDesign/news...  \n",
       "2      bogra  http://archive.thedailystar.net/newDesign/news...  \n",
       "3  sirajganj  http://archive.thedailystar.net/newDesign/news...  \n",
       "4      dhaka  http://archive.thedailystar.net/newDesign/news...  "
      ]
     },
     "execution_count": 48,
     "metadata": {},
     "output_type": "execute_result"
    }
   ],
   "source": [
    "df.head()"
   ]
  },
  {
   "cell_type": "code",
   "execution_count": 49,
   "metadata": {
    "collapsed": false
   },
   "outputs": [
    {
     "data": {
      "text/plain": [
       "336"
      ]
     },
     "execution_count": 49,
     "metadata": {},
     "output_type": "execute_result"
    }
   ],
   "source": [
    "df['District'].value_counts()['dhaka']"
   ]
  },
  {
   "cell_type": "code",
   "execution_count": 61,
   "metadata": {
    "collapsed": false
   },
   "outputs": [
    {
     "name": "stdout",
     "output_type": "stream",
     "text": [
      "hanging                       634\n",
      "poison                        233\n",
      "jumped in front of train       16\n",
      "jumped                         13\n",
      "not given                      12\n",
      "setting fire                   12\n",
      "shooting                       10\n",
      "-                               8\n",
      "jumping off river               6\n",
      "slitting throat                 5\n",
      "jumping off                     5\n",
      "fire                            5\n",
      "jumping off building            5\n",
      "jumped under running train      4\n",
      "train                           2\n",
      "shot                            2\n",
      "set fire                        1\n",
      "bus                             1\n",
      "strangulating                   1\n",
      "posion                          1\n",
      "not mentioned                   1\n",
      "burning                         1\n",
      "stabbing himself                1\n",
      "Name: Methodology, dtype: int64\n"
     ]
    }
   ],
   "source": [
    "# Overall death methodologies\n",
    "unique_methods = list(set(df['Methodology'].str.lower()))\n",
    "print df['Methodology'].value_counts()"
   ]
  },
  {
   "cell_type": "code",
   "execution_count": 101,
   "metadata": {
    "collapsed": false
   },
   "outputs": [
    {
     "name": "stdout",
     "output_type": "stream",
     "text": [
      "331\n"
     ]
    }
   ],
   "source": [
    "# Methodologies by gender\n",
    "male_suicide_desc = df[df['Gender'] == 'male']['Methodology'].value_counts()\n",
    "print sum(male_suicide_desc)"
   ]
  },
  {
   "cell_type": "code",
   "execution_count": 96,
   "metadata": {
    "collapsed": false
   },
   "outputs": [],
   "source": [
    "female_suicide_desc = df[df['Gender'] == 'female']['Methodology'].value_counts()"
   ]
  },
  {
   "cell_type": "code",
   "execution_count": 92,
   "metadata": {
    "collapsed": false
   },
   "outputs": [
    {
     "name": "stdout",
     "output_type": "stream",
     "text": [
      "ERROR\n",
      "ERROR\n",
      "ERROR\n",
      "ERROR\n",
      "ERROR\n"
     ]
    }
   ],
   "source": [
    "with open('male_suicide.txt', 'w') as f:\n",
    "    f.write('[')\n",
    "    for method in unique_methods:\n",
    "        try:\n",
    "            data_to_write = \"{\\\"gender\\\" : \\\"male\\\", \\\"method\\\": \\\"%s\\\" , \\\"count\\\": %s}\" % (method, male_suicide_desc[method])\n",
    "            f.write(data_to_write + ',\\n')\n",
    "        except:\n",
    "            print \"ERROR\"\n",
    "    f.write(']')\n",
    "f.close()"
   ]
  },
  {
   "cell_type": "code",
   "execution_count": 54,
   "metadata": {
    "collapsed": false
   },
   "outputs": [
    {
     "data": {
      "text/plain": [
       "0                   4\n",
       "1                   2\n",
       "2                   3\n",
       "3                   2\n",
       "4                   6\n",
       "5                   2\n",
       "6                   1\n",
       "7                   6\n",
       "8                   2\n",
       "9                   2\n",
       "10                  3\n",
       "11                  2\n",
       "12                  2\n",
       "13                  3\n",
       "14                  2\n",
       "15                  6\n",
       "16                  7\n",
       "17                  6\n",
       "18                  6\n",
       "19                  6\n",
       "20                  6\n",
       "21                  2\n",
       "22                  6\n",
       "23                  2\n",
       "24                  2\n",
       "25                  5\n",
       "26                  2\n",
       "27                  6\n",
       "28                  7\n",
       "29                  2\n",
       "            ...      \n",
       "496                 6\n",
       "497                 2\n",
       "498                 1\n",
       "499                 2\n",
       "500                 6\n",
       "501                 1\n",
       "502                 1\n",
       "503                 2\n",
       "504                 6\n",
       "505                 6\n",
       "506                 6\n",
       "507                 7\n",
       "508                 6\n",
       "509                 6\n",
       "510                 2\n",
       "511                 6\n",
       "512                 6\n",
       "513                 7\n",
       "514               NaN\n",
       "515               map\n",
       "516      bussinessman\n",
       "517    service holder\n",
       "518        home maker\n",
       "519     self employed\n",
       "520           teacher\n",
       "521           student\n",
       "522            others\n",
       "523               map\n",
       "524           married\n",
       "525         unmarried\n",
       "Name: Respondents Professional Status, dtype: object"
      ]
     },
     "execution_count": 54,
     "metadata": {},
     "output_type": "execute_result"
    }
   ],
   "source": [
    "df_onlineshop = pd.read_csv('Online_shoping_survey_data.csv')\n",
    "df_onlineshop['Respondents Gender'].str.lower()\n",
    "df_onlineshop['Respondents Professional Status'].str.lower()"
   ]
  },
  {
   "cell_type": "code",
   "execution_count": 95,
   "metadata": {
    "collapsed": false
   },
   "outputs": [
    {
     "name": "stdout",
     "output_type": "stream",
     "text": [
      "Method: jumping off building Count: 4\n",
      "Method: stabbing himself Count: 1\n",
      "Method: shot Count: 1\n",
      "Method: burning Count: 0 \n",
      "Method: jumping off river Count: 3\n",
      "Method: slitting throat Count: 5\n",
      "Method: strangulating Count: 1\n",
      "Method: hanging Count: 203\n",
      "Method: shooting Count: 10\n",
      "Method: jumped in front of train Count: 7\n",
      "Method: jumping off Count: 4\n",
      "Method: jumped Count: 4\n",
      "Method: - Count: 5\n",
      "Method: poison Count: 76\n",
      "Method: bus Count: 0 \n",
      "Method: fire Count: 1\n",
      "Method: jumped under running train Count: 1\n",
      "Method: train Count: 2\n",
      "Method: set fire Count: 0 \n",
      "Method: posion Count: 0 \n",
      "Method: not mentioned Count: 0 \n",
      "Method: setting fire Count: 2\n",
      "Method: not given Count: 1\n"
     ]
    }
   ],
   "source": [
    "for method in unique_methods:\n",
    "    try:\n",
    "        print \"Method: {} Count: {}\".format(method, male_suicide_desc[method])\n",
    "    except:\n",
    "        print \"Method: {} Count: {} \".format(method, 0)"
   ]
  },
  {
   "cell_type": "code",
   "execution_count": 97,
   "metadata": {
    "collapsed": false
   },
   "outputs": [
    {
     "name": "stdout",
     "output_type": "stream",
     "text": [
      "Method: jumping off building Count: 1\n",
      "Method: stabbing himself Count: 0 \n",
      "Method: shot Count: 1\n",
      "Method: burning Count: 1\n",
      "Method: jumping off river Count: 3\n",
      "Method: slitting throat Count: 0 \n",
      "Method: strangulating Count: 0 \n",
      "Method: hanging Count: 431\n",
      "Method: shooting Count: 0 \n",
      "Method: jumped in front of train Count: 9\n",
      "Method: jumping off Count: 1\n",
      "Method: jumped Count: 9\n",
      "Method: - Count: 3\n",
      "Method: poison Count: 157\n",
      "Method: bus Count: 1\n",
      "Method: fire Count: 4\n",
      "Method: jumped under running train Count: 3\n",
      "Method: train Count: 0 \n",
      "Method: set fire Count: 1\n",
      "Method: posion Count: 1\n",
      "Method: not mentioned Count: 1\n",
      "Method: setting fire Count: 10\n",
      "Method: not given Count: 11\n"
     ]
    }
   ],
   "source": [
    "for method in unique_methods:\n",
    "    try:\n",
    "        print \"Method: {} Count: {}\".format(method, female_suicide_desc[method])\n",
    "    except:\n",
    "        print \"Method: {} Count: {} \".format(method, 0)"
   ]
  },
  {
   "cell_type": "code",
   "execution_count": 103,
   "metadata": {
    "collapsed": false
   },
   "outputs": [
    {
     "name": "stdout",
     "output_type": "stream",
     "text": [
      "331\n"
     ]
    }
   ],
   "source": [
    "print sum(male_suicide_desc)"
   ]
  },
  {
   "cell_type": "code",
   "execution_count": 110,
   "metadata": {
    "collapsed": false
   },
   "outputs": [
    {
     "name": "stdout",
     "output_type": "stream",
     "text": [
      "EXCEPTION\n",
      "EXCEPTION\n",
      "EXCEPTION\n",
      "EXCEPTION\n",
      "EXCEPTION\n"
     ]
    }
   ],
   "source": [
    "with open('male_suicide_data.txt', 'w') as f:\n",
    "    for method in unique_methods:\n",
    "        try:\n",
    "            data_to_write = \"{group: \\\"Male\\\", category: \\\"%s\\\", measure: %s}\" % (method, male_suicide_desc[method])\n",
    "        except:\n",
    "            print \"EXCEPTION\"\n",
    "            data_to_write = \"{group: \\\"Male\\\", category: \\\"%s\\\", measure: %s}\" % (method, \"0\")\n",
    "        f.write(data_to_write + ',\\n')\n",
    "f.close()"
   ]
  },
  {
   "cell_type": "code",
   "execution_count": 121,
   "metadata": {
    "collapsed": false
   },
   "outputs": [
    {
     "name": "stdout",
     "output_type": "stream",
     "text": [
      "ERROR\n",
      "ERROR\n",
      "ERROR\n",
      "ERROR\n",
      "ERROR\n",
      "ERROR\n",
      "ERROR\n",
      "ERROR\n",
      "ERROR\n",
      "ERROR\n",
      "ERROR\n",
      "ERROR\n",
      "ERROR\n"
     ]
    }
   ],
   "source": [
    "df_onlineshop.keys()\n",
    "for key in df_onlineshop.keys():\n",
    "    try:\n",
    "        df_onlineshop[key] = df_onlineshop[key].str.lower()\n",
    "    except:\n",
    "        print \"ERROR\""
   ]
  },
  {
   "cell_type": "code",
   "execution_count": 123,
   "metadata": {
    "collapsed": false
   },
   "outputs": [],
   "source": [
    "respondents_professional_status = {\n",
    "    \"1\": \"businessman\",\n",
    "    \"2\": \"service Holder\",\n",
    "    \"3\": \"home Maker\",\n",
    "    \"4\": \"Self Employed\",\n",
    "    \"5\": \"Teacher\",\n",
    "    \"6\": \"Student\",\n",
    "    \"7\": \"Others\"\n",
    "}"
   ]
  },
  {
   "cell_type": "code",
   "execution_count": 124,
   "metadata": {
    "collapsed": true
   },
   "outputs": [],
   "source": [
    "respondents_marital_status = {\n",
    "    \"1\": \"Married\",\n",
    "    \"2\": \"Unmarried\",\n",
    "    \"3\": None\n",
    "}"
   ]
  },
  {
   "cell_type": "code",
   "execution_count": 125,
   "metadata": {
    "collapsed": true
   },
   "outputs": [],
   "source": [
    "purpose_of_using_internet = {\n",
    "    1: \"Shopping\",\n",
    "    2: \"Work\",\n",
    "    3: \"Education\",\n",
    "    4: \"Social Media\",\n",
    "    5: \"Phone calls or distant messaging\",\n",
    "    6: \"Others\",\n",
    "    7: None\n",
    "}"
   ]
  },
  {
   "cell_type": "code",
   "execution_count": 126,
   "metadata": {
    "collapsed": true
   },
   "outputs": [],
   "source": [
    "df_onlineshop['Respondents Professional Status'].replace(respondents_professional_status, inplace=True)\n",
    "df_onlineshop['Respondent\\'s Marital Status'].replace(respondents_marital_status, inplace=True)\n",
    "df_onlineshop['Main Purpose of using internet'].replace(purpose_of_using_internet, inplace=True)"
   ]
  },
  {
   "cell_type": "code",
   "execution_count": 127,
   "metadata": {
    "collapsed": false
   },
   "outputs": [
    {
     "name": "stdout",
     "output_type": "stream",
     "text": [
      "ERROR\n",
      "ERROR\n",
      "ERROR\n",
      "ERROR\n",
      "ERROR\n",
      "ERROR\n",
      "ERROR\n",
      "ERROR\n",
      "ERROR\n",
      "ERROR\n",
      "ERROR\n",
      "ERROR\n"
     ]
    }
   ],
   "source": [
    "df_onlineshop.keys()\n",
    "for key in df_onlineshop.keys():\n",
    "    try:\n",
    "        df_onlineshop[key] = df_onlineshop[key].str.lower()\n",
    "    except:\n",
    "        print \"ERROR\""
   ]
  },
  {
   "cell_type": "code",
   "execution_count": 128,
   "metadata": {
    "collapsed": false
   },
   "outputs": [
    {
     "data": {
      "text/html": [
       "<div>\n",
       "<table border=\"1\" class=\"dataframe\">\n",
       "  <thead>\n",
       "    <tr style=\"text-align: right;\">\n",
       "      <th></th>\n",
       "      <th>Respondents ID</th>\n",
       "      <th>Respondents Gender</th>\n",
       "      <th>Respondents living area</th>\n",
       "      <th>Age of the respondent</th>\n",
       "      <th>Respondent's Marital Status</th>\n",
       "      <th>Respondents Professional Status</th>\n",
       "      <th>Educational qualification</th>\n",
       "      <th>Family members</th>\n",
       "      <th>Respondents Income</th>\n",
       "      <th>Respondents Expenditure</th>\n",
       "      <th>...</th>\n",
       "      <th>OS reduces monetary cost</th>\n",
       "      <th>traditional stores are better</th>\n",
       "      <th>enjoy Online shopping</th>\n",
       "      <th>Do not purchase online if there is no moneyback gurantee</th>\n",
       "      <th>Delivery service is not satisfactory</th>\n",
       "      <th>long time requires for getting a product</th>\n",
       "      <th>satisfeid with the return policy</th>\n",
       "      <th>Overall Satisfaction</th>\n",
       "      <th>Opinion about the number of online stores</th>\n",
       "      <th>Main Purpose of using internet</th>\n",
       "    </tr>\n",
       "  </thead>\n",
       "  <tbody>\n",
       "    <tr>\n",
       "      <th>0</th>\n",
       "      <td>1.0</td>\n",
       "      <td>male</td>\n",
       "      <td>dhaka south city corporation</td>\n",
       "      <td>29.0</td>\n",
       "      <td>married</td>\n",
       "      <td>self employed</td>\n",
       "      <td>graduate</td>\n",
       "      <td>3.0</td>\n",
       "      <td>12000.0</td>\n",
       "      <td>6000.0</td>\n",
       "      <td>...</td>\n",
       "      <td>indifferent</td>\n",
       "      <td>indifferent</td>\n",
       "      <td>agree</td>\n",
       "      <td>indifferent</td>\n",
       "      <td>disagree</td>\n",
       "      <td>disagree</td>\n",
       "      <td>indifferent</td>\n",
       "      <td>somewhat satisfied</td>\n",
       "      <td>adequate</td>\n",
       "      <td>social media</td>\n",
       "    </tr>\n",
       "    <tr>\n",
       "      <th>1</th>\n",
       "      <td>2.0</td>\n",
       "      <td>male</td>\n",
       "      <td>dhaka north city corporation</td>\n",
       "      <td>32.0</td>\n",
       "      <td>married</td>\n",
       "      <td>service holder</td>\n",
       "      <td>graduate</td>\n",
       "      <td>5.0</td>\n",
       "      <td>65000.0</td>\n",
       "      <td>50000.0</td>\n",
       "      <td>...</td>\n",
       "      <td>disagree</td>\n",
       "      <td>indifferent</td>\n",
       "      <td>agree</td>\n",
       "      <td>indifferent</td>\n",
       "      <td>disagree</td>\n",
       "      <td>disagree</td>\n",
       "      <td>indifferent</td>\n",
       "      <td>somewhat satisfied</td>\n",
       "      <td>too much</td>\n",
       "      <td>social media</td>\n",
       "    </tr>\n",
       "    <tr>\n",
       "      <th>2</th>\n",
       "      <td>3.0</td>\n",
       "      <td>female</td>\n",
       "      <td>dhaka south city corporation</td>\n",
       "      <td>35.0</td>\n",
       "      <td>married</td>\n",
       "      <td>home maker</td>\n",
       "      <td>secondary</td>\n",
       "      <td>4.0</td>\n",
       "      <td>18000.0</td>\n",
       "      <td>15000.0</td>\n",
       "      <td>...</td>\n",
       "      <td>disagree</td>\n",
       "      <td>indifferent</td>\n",
       "      <td>indifferent</td>\n",
       "      <td>strongly agree</td>\n",
       "      <td>disagree</td>\n",
       "      <td>disagree</td>\n",
       "      <td>indifferent</td>\n",
       "      <td>indifferent</td>\n",
       "      <td>too much</td>\n",
       "      <td>shopping</td>\n",
       "    </tr>\n",
       "    <tr>\n",
       "      <th>3</th>\n",
       "      <td>4.0</td>\n",
       "      <td>female</td>\n",
       "      <td>dhaka north city corporation</td>\n",
       "      <td>24.0</td>\n",
       "      <td>married</td>\n",
       "      <td>service holder</td>\n",
       "      <td>graduate</td>\n",
       "      <td>5.0</td>\n",
       "      <td>15000.0</td>\n",
       "      <td>5000.0</td>\n",
       "      <td>...</td>\n",
       "      <td>disagree</td>\n",
       "      <td>indifferent</td>\n",
       "      <td>indifferent</td>\n",
       "      <td>indifferent</td>\n",
       "      <td>disagree</td>\n",
       "      <td>disagree</td>\n",
       "      <td>indifferent</td>\n",
       "      <td>somewhat dissatisfied</td>\n",
       "      <td>adequate</td>\n",
       "      <td>social media</td>\n",
       "    </tr>\n",
       "    <tr>\n",
       "      <th>4</th>\n",
       "      <td>5.0</td>\n",
       "      <td>male</td>\n",
       "      <td>dhaka south city corporation</td>\n",
       "      <td>24.0</td>\n",
       "      <td>unmarried</td>\n",
       "      <td>student</td>\n",
       "      <td>undergraduate</td>\n",
       "      <td>6.0</td>\n",
       "      <td>6000.0</td>\n",
       "      <td>6000.0</td>\n",
       "      <td>...</td>\n",
       "      <td>disagree</td>\n",
       "      <td>indifferent</td>\n",
       "      <td>agree</td>\n",
       "      <td>indifferent</td>\n",
       "      <td>disagree</td>\n",
       "      <td>strongly disagree</td>\n",
       "      <td>indifferent</td>\n",
       "      <td>somewhat satisfied</td>\n",
       "      <td>adequate</td>\n",
       "      <td>social media</td>\n",
       "    </tr>\n",
       "  </tbody>\n",
       "</table>\n",
       "<p>5 rows × 68 columns</p>\n",
       "</div>"
      ],
      "text/plain": [
       "   Respondents ID Respondents Gender       Respondents living area  \\\n",
       "0             1.0               male  dhaka south city corporation   \n",
       "1             2.0               male  dhaka north city corporation   \n",
       "2             3.0             female  dhaka south city corporation   \n",
       "3             4.0             female  dhaka north city corporation   \n",
       "4             5.0               male  dhaka south city corporation   \n",
       "\n",
       "   Age of the respondent Respondent's Marital Status  \\\n",
       "0                   29.0                     married   \n",
       "1                   32.0                     married   \n",
       "2                   35.0                     married   \n",
       "3                   24.0                     married   \n",
       "4                   24.0                   unmarried   \n",
       "\n",
       "  Respondents Professional Status Educational qualification  Family members  \\\n",
       "0                   self employed                  graduate             3.0   \n",
       "1                  service holder                  graduate             5.0   \n",
       "2                      home maker                 secondary             4.0   \n",
       "3                  service holder                  graduate             5.0   \n",
       "4                         student             undergraduate             6.0   \n",
       "\n",
       "   Respondents Income  Respondents Expenditure              ...                \\\n",
       "0             12000.0                   6000.0              ...                 \n",
       "1             65000.0                  50000.0              ...                 \n",
       "2             18000.0                  15000.0              ...                 \n",
       "3             15000.0                   5000.0              ...                 \n",
       "4              6000.0                   6000.0              ...                 \n",
       "\n",
       "   OS reduces monetary cost traditional stores are better  \\\n",
       "0               indifferent                   indifferent   \n",
       "1                  disagree                   indifferent   \n",
       "2                  disagree                   indifferent   \n",
       "3                  disagree                   indifferent   \n",
       "4                  disagree                   indifferent   \n",
       "\n",
       "   enjoy Online shopping  \\\n",
       "0                  agree   \n",
       "1                  agree   \n",
       "2            indifferent   \n",
       "3            indifferent   \n",
       "4                  agree   \n",
       "\n",
       "  Do not purchase online if there is no moneyback gurantee  \\\n",
       "0                                        indifferent         \n",
       "1                                        indifferent         \n",
       "2                                     strongly agree         \n",
       "3                                        indifferent         \n",
       "4                                        indifferent         \n",
       "\n",
       "   Delivery service is not satisfactory  \\\n",
       "0                              disagree   \n",
       "1                              disagree   \n",
       "2                              disagree   \n",
       "3                              disagree   \n",
       "4                              disagree   \n",
       "\n",
       "   long time requires for getting a product satisfeid with the return policy  \\\n",
       "0                                  disagree                      indifferent   \n",
       "1                                  disagree                      indifferent   \n",
       "2                                  disagree                      indifferent   \n",
       "3                                  disagree                      indifferent   \n",
       "4                         strongly disagree                      indifferent   \n",
       "\n",
       "    Overall Satisfaction  Opinion about the number of online stores  \\\n",
       "0     somewhat satisfied                                   adequate   \n",
       "1     somewhat satisfied                                   too much   \n",
       "2            indifferent                                   too much   \n",
       "3  somewhat dissatisfied                                   adequate   \n",
       "4     somewhat satisfied                                   adequate   \n",
       "\n",
       "  Main Purpose of using internet  \n",
       "0                   social media  \n",
       "1                   social media  \n",
       "2                       shopping  \n",
       "3                   social media  \n",
       "4                   social media  \n",
       "\n",
       "[5 rows x 68 columns]"
      ]
     },
     "execution_count": 128,
     "metadata": {},
     "output_type": "execute_result"
    }
   ],
   "source": [
    "df_onlineshop.head()"
   ]
  },
  {
   "cell_type": "code",
   "execution_count": 129,
   "metadata": {
    "collapsed": true
   },
   "outputs": [],
   "source": [
    "df_onlineshop.to_csv('output_shopping.csv')"
   ]
  },
  {
   "cell_type": "code",
   "execution_count": 1,
   "metadata": {
    "collapsed": true
   },
   "outputs": [],
   "source": [
    "shopping_data = 'malevsfemale.tsv'"
   ]
  },
  {
   "cell_type": "code",
   "execution_count": 2,
   "metadata": {
    "collapsed": true
   },
   "outputs": [],
   "source": [
    "import pandas as pd"
   ]
  },
  {
   "cell_type": "code",
   "execution_count": 3,
   "metadata": {
    "collapsed": true
   },
   "outputs": [],
   "source": [
    "df = pd.read_csv(shopping_data, sep='\\t')"
   ]
  },
  {
   "cell_type": "code",
   "execution_count": 6,
   "metadata": {
    "collapsed": false
   },
   "outputs": [],
   "source": [
    "df_male = df[df['Respondents Gender'] == 'male']"
   ]
  },
  {
   "cell_type": "code",
   "execution_count": 7,
   "metadata": {
    "collapsed": true
   },
   "outputs": [],
   "source": [
    "df_female = df[df['Respondents Gender'] == 'female']"
   ]
  },
  {
   "cell_type": "code",
   "execution_count": 13,
   "metadata": {
    "collapsed": false
   },
   "outputs": [
    {
     "data": {
      "text/html": [
       "<div>\n",
       "<table border=\"1\" class=\"dataframe\">\n",
       "  <thead>\n",
       "    <tr style=\"text-align: right;\">\n",
       "      <th></th>\n",
       "      <th>Respondents Gender</th>\n",
       "      <th>Mostly visited online shop</th>\n",
       "      <th>count_sum</th>\n",
       "    </tr>\n",
       "  </thead>\n",
       "  <tbody>\n",
       "    <tr>\n",
       "      <th>0</th>\n",
       "      <td>male</td>\n",
       "      <td>kaymu.com.bd</td>\n",
       "      <td>30.0</td>\n",
       "    </tr>\n",
       "    <tr>\n",
       "      <th>2</th>\n",
       "      <td>male</td>\n",
       "      <td>bikroy.com</td>\n",
       "      <td>49.0</td>\n",
       "    </tr>\n",
       "    <tr>\n",
       "      <th>3</th>\n",
       "      <td>male</td>\n",
       "      <td>facebook pages</td>\n",
       "      <td>44.0</td>\n",
       "    </tr>\n",
       "    <tr>\n",
       "      <th>7</th>\n",
       "      <td>male</td>\n",
       "      <td>amazon/ebay</td>\n",
       "      <td>21.0</td>\n",
       "    </tr>\n",
       "    <tr>\n",
       "      <th>8</th>\n",
       "      <td>male</td>\n",
       "      <td>olx.com.bd</td>\n",
       "      <td>6.0</td>\n",
       "    </tr>\n",
       "    <tr>\n",
       "      <th>10</th>\n",
       "      <td>male</td>\n",
       "      <td>ajkerdeal.com</td>\n",
       "      <td>15.0</td>\n",
       "    </tr>\n",
       "    <tr>\n",
       "      <th>11</th>\n",
       "      <td>male</td>\n",
       "      <td>null</td>\n",
       "      <td>84.0</td>\n",
       "    </tr>\n",
       "    <tr>\n",
       "      <th>12</th>\n",
       "      <td>male</td>\n",
       "      <td>ekhanei.com</td>\n",
       "      <td>18.0</td>\n",
       "    </tr>\n",
       "    <tr>\n",
       "      <th>13</th>\n",
       "      <td>male</td>\n",
       "      <td>shohoz.com</td>\n",
       "      <td>22.0</td>\n",
       "    </tr>\n",
       "    <tr>\n",
       "      <th>14</th>\n",
       "      <td>male</td>\n",
       "      <td>others</td>\n",
       "      <td>24.0</td>\n",
       "    </tr>\n",
       "    <tr>\n",
       "      <th>16</th>\n",
       "      <td>male</td>\n",
       "      <td>alibaba.com</td>\n",
       "      <td>5.0</td>\n",
       "    </tr>\n",
       "    <tr>\n",
       "      <th>18</th>\n",
       "      <td>male</td>\n",
       "      <td>chaldal.com</td>\n",
       "      <td>4.0</td>\n",
       "    </tr>\n",
       "    <tr>\n",
       "      <th>20</th>\n",
       "      <td>male</td>\n",
       "      <td>daraz.com.bd</td>\n",
       "      <td>16.0</td>\n",
       "    </tr>\n",
       "    <tr>\n",
       "      <th>24</th>\n",
       "      <td>male</td>\n",
       "      <td>clickbd.com</td>\n",
       "      <td>1.0</td>\n",
       "    </tr>\n",
       "  </tbody>\n",
       "</table>\n",
       "</div>"
      ],
      "text/plain": [
       "   Respondents Gender Mostly visited online shop  count_sum\n",
       "0                male               kaymu.com.bd       30.0\n",
       "2                male                 bikroy.com       49.0\n",
       "3                male             facebook pages       44.0\n",
       "7                male                amazon/ebay       21.0\n",
       "8                male                 olx.com.bd        6.0\n",
       "10               male              ajkerdeal.com       15.0\n",
       "11               male                       null       84.0\n",
       "12               male                ekhanei.com       18.0\n",
       "13               male                 shohoz.com       22.0\n",
       "14               male                     others       24.0\n",
       "16               male                alibaba.com        5.0\n",
       "18               male                chaldal.com        4.0\n",
       "20               male               daraz.com.bd       16.0\n",
       "24               male                clickbd.com        1.0"
      ]
     },
     "execution_count": 13,
     "metadata": {},
     "output_type": "execute_result"
    }
   ],
   "source": [
    "df_male.head(15)"
   ]
  },
  {
   "cell_type": "code",
   "execution_count": 15,
   "metadata": {
    "collapsed": false
   },
   "outputs": [
    {
     "data": {
      "text/html": [
       "<div>\n",
       "<table border=\"1\" class=\"dataframe\">\n",
       "  <thead>\n",
       "    <tr style=\"text-align: right;\">\n",
       "      <th></th>\n",
       "      <th>Respondents Gender</th>\n",
       "      <th>Mostly visited online shop</th>\n",
       "      <th>count_sum</th>\n",
       "    </tr>\n",
       "  </thead>\n",
       "  <tbody>\n",
       "    <tr>\n",
       "      <th>1</th>\n",
       "      <td>female</td>\n",
       "      <td>bikroy.com</td>\n",
       "      <td>14.0</td>\n",
       "    </tr>\n",
       "    <tr>\n",
       "      <th>4</th>\n",
       "      <td>female</td>\n",
       "      <td>kaymu.com.bd</td>\n",
       "      <td>8.0</td>\n",
       "    </tr>\n",
       "    <tr>\n",
       "      <th>5</th>\n",
       "      <td>female</td>\n",
       "      <td>null</td>\n",
       "      <td>52.0</td>\n",
       "    </tr>\n",
       "    <tr>\n",
       "      <th>6</th>\n",
       "      <td>female</td>\n",
       "      <td>facebook pages</td>\n",
       "      <td>68.0</td>\n",
       "    </tr>\n",
       "    <tr>\n",
       "      <th>9</th>\n",
       "      <td>female</td>\n",
       "      <td>ekhanei.com</td>\n",
       "      <td>8.0</td>\n",
       "    </tr>\n",
       "    <tr>\n",
       "      <th>15</th>\n",
       "      <td>female</td>\n",
       "      <td>amazon/ebay</td>\n",
       "      <td>4.0</td>\n",
       "    </tr>\n",
       "    <tr>\n",
       "      <th>17</th>\n",
       "      <td>female</td>\n",
       "      <td>chaldal.com</td>\n",
       "      <td>1.0</td>\n",
       "    </tr>\n",
       "    <tr>\n",
       "      <th>19</th>\n",
       "      <td>female</td>\n",
       "      <td>others</td>\n",
       "      <td>5.0</td>\n",
       "    </tr>\n",
       "    <tr>\n",
       "      <th>21</th>\n",
       "      <td>female</td>\n",
       "      <td>ajkerdeal.com</td>\n",
       "      <td>5.0</td>\n",
       "    </tr>\n",
       "    <tr>\n",
       "      <th>22</th>\n",
       "      <td>female</td>\n",
       "      <td>daraz.com.bd</td>\n",
       "      <td>7.0</td>\n",
       "    </tr>\n",
       "    <tr>\n",
       "      <th>23</th>\n",
       "      <td>female</td>\n",
       "      <td>clickbd.com</td>\n",
       "      <td>1.0</td>\n",
       "    </tr>\n",
       "    <tr>\n",
       "      <th>25</th>\n",
       "      <td>female</td>\n",
       "      <td>olx.com.bd</td>\n",
       "      <td>1.0</td>\n",
       "    </tr>\n",
       "    <tr>\n",
       "      <th>26</th>\n",
       "      <td>female</td>\n",
       "      <td>alibaba.com</td>\n",
       "      <td>1.0</td>\n",
       "    </tr>\n",
       "  </tbody>\n",
       "</table>\n",
       "</div>"
      ],
      "text/plain": [
       "   Respondents Gender Mostly visited online shop  count_sum\n",
       "1              female                 bikroy.com       14.0\n",
       "4              female               kaymu.com.bd        8.0\n",
       "5              female                       null       52.0\n",
       "6              female             facebook pages       68.0\n",
       "9              female                ekhanei.com        8.0\n",
       "15             female                amazon/ebay        4.0\n",
       "17             female                chaldal.com        1.0\n",
       "19             female                     others        5.0\n",
       "21             female              ajkerdeal.com        5.0\n",
       "22             female               daraz.com.bd        7.0\n",
       "23             female                clickbd.com        1.0\n",
       "25             female                 olx.com.bd        1.0\n",
       "26             female                alibaba.com        1.0"
      ]
     },
     "execution_count": 15,
     "metadata": {},
     "output_type": "execute_result"
    }
   ],
   "source": [
    "df_female.head(df_female.shape[0])"
   ]
  },
  {
   "cell_type": "code",
   "execution_count": null,
   "metadata": {
    "collapsed": true
   },
   "outputs": [],
   "source": []
  }
 ],
 "metadata": {
  "anaconda-cloud": {},
  "kernelspec": {
   "display_name": "Python [conda root]",
   "language": "python",
   "name": "conda-root-py"
  },
  "language_info": {
   "codemirror_mode": {
    "name": "ipython",
    "version": 2
   },
   "file_extension": ".py",
   "mimetype": "text/x-python",
   "name": "python",
   "nbconvert_exporter": "python",
   "pygments_lexer": "ipython2",
   "version": "2.7.12"
  }
 },
 "nbformat": 4,
 "nbformat_minor": 1
}
