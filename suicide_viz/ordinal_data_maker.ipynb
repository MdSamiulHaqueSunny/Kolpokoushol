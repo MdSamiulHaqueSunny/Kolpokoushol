{
 "cells": [
  {
   "cell_type": "code",
   "execution_count": 1,
   "metadata": {
    "collapsed": true
   },
   "outputs": [],
   "source": [
    "import pandas as pd"
   ]
  },
  {
   "cell_type": "code",
   "execution_count": 71,
   "metadata": {
    "collapsed": true
   },
   "outputs": [],
   "source": [
    "df = pd.read_csv('suicide_history.csv')"
   ]
  },
  {
   "cell_type": "code",
   "execution_count": 72,
   "metadata": {
    "collapsed": false
   },
   "outputs": [
    {
     "data": {
      "text/plain": [
       "Index(['Date', 'Age', 'Gender', 'Profession', 'Methodology', 'Reason', 'Time',\n",
       "       'District', 'Source'],\n",
       "      dtype='object')"
      ]
     },
     "execution_count": 72,
     "metadata": {},
     "output_type": "execute_result"
    }
   ],
   "source": [
    "df.columns"
   ]
  },
  {
   "cell_type": "code",
   "execution_count": 73,
   "metadata": {
    "collapsed": false
   },
   "outputs": [
    {
     "name": "stderr",
     "output_type": "stream",
     "text": [
      "C:\\Anaconda3\\lib\\site-packages\\ipykernel\\__main__.py:1: FutureWarning: sort(columns=....) is deprecated, use sort_values(by=.....)\n",
      "  if __name__ == '__main__':\n"
     ]
    }
   ],
   "source": [
    "df = df.sort('Age')"
   ]
  },
  {
   "cell_type": "code",
   "execution_count": 74,
   "metadata": {
    "collapsed": false
   },
   "outputs": [],
   "source": [
    "df['Reason'] = [x.lower() for x in df['Reason']]\n",
    "df = df[(df['Reason'] != 'not given') & (df['Reason'] != '-') & (df['Reason'] != 'not known') & (df['Reason'] != 'unknown')]"
   ]
  },
  {
   "cell_type": "code",
   "execution_count": 75,
   "metadata": {
    "collapsed": false
   },
   "outputs": [],
   "source": [
    "# Category 8-12\n",
    "df_8_12 = df[(df['Age'] >= 8) & (df['Age'] <= 12)]"
   ]
  },
  {
   "cell_type": "code",
   "execution_count": 76,
   "metadata": {
    "collapsed": false
   },
   "outputs": [],
   "source": [
    "# Category 13-18\n",
    "df_13_18 = df[(df['Age'] >= 13) & (df['Age'] <= 18)]"
   ]
  },
  {
   "cell_type": "code",
   "execution_count": 77,
   "metadata": {
    "collapsed": true
   },
   "outputs": [],
   "source": [
    "# Category 19-26\n",
    "df_19_26 = df[(df['Age'] >= 19) & (df['Age'] <= 26)]"
   ]
  },
  {
   "cell_type": "code",
   "execution_count": 78,
   "metadata": {
    "collapsed": true
   },
   "outputs": [],
   "source": [
    "# Category 27-35\n",
    "df_27_35 = df[(df['Age'] >= 27) & (df['Age'] <= 35)]"
   ]
  },
  {
   "cell_type": "code",
   "execution_count": 79,
   "metadata": {
    "collapsed": true
   },
   "outputs": [],
   "source": [
    "# Category 36-50\n",
    "df_36_50 = df[(df['Age'] >= 36) & (df['Age'] <= 50)]"
   ]
  },
  {
   "cell_type": "code",
   "execution_count": 80,
   "metadata": {
    "collapsed": true
   },
   "outputs": [],
   "source": [
    "# Category 51-80\n",
    "df_51_80 = df[(df['Age'] >= 51) & (df['Age'] <= 80)]"
   ]
  },
  {
   "cell_type": "code",
   "execution_count": 81,
   "metadata": {
    "collapsed": true
   },
   "outputs": [],
   "source": [
    "# Category 81-103\n",
    "df_81_103 = df[(df['Age'] >= 81) & (df['Age'] <= 103)]"
   ]
  },
  {
   "cell_type": "code",
   "execution_count": 82,
   "metadata": {
    "collapsed": false
   },
   "outputs": [
    {
     "data": {
      "text/html": [
       "<div>\n",
       "<table border=\"1\" class=\"dataframe\">\n",
       "  <thead>\n",
       "    <tr style=\"text-align: right;\">\n",
       "      <th></th>\n",
       "      <th>Date</th>\n",
       "      <th>Age</th>\n",
       "      <th>Gender</th>\n",
       "      <th>Profession</th>\n",
       "      <th>Methodology</th>\n",
       "      <th>Reason</th>\n",
       "      <th>Time</th>\n",
       "      <th>District</th>\n",
       "      <th>Source</th>\n",
       "    </tr>\n",
       "  </thead>\n",
       "  <tbody>\n",
       "    <tr>\n",
       "      <th>432</th>\n",
       "      <td>2/7/2012</td>\n",
       "      <td>85</td>\n",
       "      <td>Female</td>\n",
       "      <td>not given</td>\n",
       "      <td>Hanging</td>\n",
       "      <td>family feud</td>\n",
       "      <td>5:00:00</td>\n",
       "      <td>Shatkhira</td>\n",
       "      <td>http://archive.thedailystar.net/newDesign/news...</td>\n",
       "    </tr>\n",
       "    <tr>\n",
       "      <th>795</th>\n",
       "      <td>9/9/2013</td>\n",
       "      <td>103</td>\n",
       "      <td>Male</td>\n",
       "      <td>not given</td>\n",
       "      <td>Hanging</td>\n",
       "      <td>family feud</td>\n",
       "      <td>-</td>\n",
       "      <td>Joypurhat</td>\n",
       "      <td>http://archive.thedailystar.net/beta2/news/sni...</td>\n",
       "    </tr>\n",
       "  </tbody>\n",
       "</table>\n",
       "</div>"
      ],
      "text/plain": [
       "         Date  Age  Gender Profession Methodology       Reason     Time  \\\n",
       "432  2/7/2012   85  Female  not given     Hanging  family feud  5:00:00   \n",
       "795  9/9/2013  103    Male  not given     Hanging  family feud        -   \n",
       "\n",
       "      District                                             Source  \n",
       "432  Shatkhira  http://archive.thedailystar.net/newDesign/news...  \n",
       "795  Joypurhat  http://archive.thedailystar.net/beta2/news/sni...  "
      ]
     },
     "execution_count": 82,
     "metadata": {},
     "output_type": "execute_result"
    }
   ],
   "source": [
    "df_81_103"
   ]
  },
  {
   "cell_type": "code",
   "execution_count": 83,
   "metadata": {
    "collapsed": false
   },
   "outputs": [
    {
     "data": {
      "text/plain": [
       "(673, 9)"
      ]
     },
     "execution_count": 83,
     "metadata": {},
     "output_type": "execute_result"
    }
   ],
   "source": [
    "df.shape"
   ]
  },
  {
   "cell_type": "code",
   "execution_count": 84,
   "metadata": {
    "collapsed": false
   },
   "outputs": [
    {
     "data": {
      "text/html": [
       "<div>\n",
       "<table border=\"1\" class=\"dataframe\">\n",
       "  <thead>\n",
       "    <tr style=\"text-align: right;\">\n",
       "      <th></th>\n",
       "      <th>Date</th>\n",
       "      <th>Age</th>\n",
       "      <th>Gender</th>\n",
       "      <th>Profession</th>\n",
       "      <th>Methodology</th>\n",
       "      <th>Reason</th>\n",
       "      <th>Time</th>\n",
       "      <th>District</th>\n",
       "      <th>Source</th>\n",
       "    </tr>\n",
       "  </thead>\n",
       "  <tbody>\n",
       "    <tr>\n",
       "      <th>472</th>\n",
       "      <td>3/30/2012</td>\n",
       "      <td>8</td>\n",
       "      <td>Male</td>\n",
       "      <td>Student</td>\n",
       "      <td>Hanging</td>\n",
       "      <td>family feud</td>\n",
       "      <td>20:30:00</td>\n",
       "      <td>Dhaka</td>\n",
       "      <td>http://archive.thedailystar.net/newDesign/news...</td>\n",
       "    </tr>\n",
       "    <tr>\n",
       "      <th>627</th>\n",
       "      <td>9/30/2012</td>\n",
       "      <td>10</td>\n",
       "      <td>Female</td>\n",
       "      <td>Student</td>\n",
       "      <td>Poison</td>\n",
       "      <td>allegation</td>\n",
       "      <td>23:30:00</td>\n",
       "      <td>Jessore</td>\n",
       "      <td>http://archive.thedailystar.net/newDesign/news...</td>\n",
       "    </tr>\n",
       "    <tr>\n",
       "      <th>188</th>\n",
       "      <td>2/8/2011</td>\n",
       "      <td>10</td>\n",
       "      <td>Female</td>\n",
       "      <td>student</td>\n",
       "      <td>Poison</td>\n",
       "      <td>family feud</td>\n",
       "      <td>not given</td>\n",
       "      <td>Shatkhira</td>\n",
       "      <td>http://archive.thedailystar.net/newDesign/news...</td>\n",
       "    </tr>\n",
       "    <tr>\n",
       "      <th>636</th>\n",
       "      <td>10/20/2012</td>\n",
       "      <td>10</td>\n",
       "      <td>Female</td>\n",
       "      <td>not given</td>\n",
       "      <td>Hanging</td>\n",
       "      <td>physical illness</td>\n",
       "      <td>not given</td>\n",
       "      <td>Dhaka</td>\n",
       "      <td>http://archive.thedailystar.net/newDesign/news...</td>\n",
       "    </tr>\n",
       "    <tr>\n",
       "      <th>230</th>\n",
       "      <td>4/5/2011</td>\n",
       "      <td>10</td>\n",
       "      <td>Male</td>\n",
       "      <td>student</td>\n",
       "      <td>Poison</td>\n",
       "      <td>family feud</td>\n",
       "      <td>not given</td>\n",
       "      <td>Shatkhira</td>\n",
       "      <td>http://archive.thedailystar.net/newDesign/news...</td>\n",
       "    </tr>\n",
       "    <tr>\n",
       "      <th>670</th>\n",
       "      <td>12/24/2012</td>\n",
       "      <td>10</td>\n",
       "      <td>Female</td>\n",
       "      <td>Student</td>\n",
       "      <td>Hanging</td>\n",
       "      <td>family feud</td>\n",
       "      <td>not given</td>\n",
       "      <td>Dhaka</td>\n",
       "      <td>http://archive.thedailystar.net/newDesign/news...</td>\n",
       "    </tr>\n",
       "    <tr>\n",
       "      <th>592</th>\n",
       "      <td>9/4/2012</td>\n",
       "      <td>10</td>\n",
       "      <td>Male</td>\n",
       "      <td>Student</td>\n",
       "      <td>Hanging</td>\n",
       "      <td>family feud</td>\n",
       "      <td>0:30:00</td>\n",
       "      <td>Dhaka</td>\n",
       "      <td>http://archive.thedailystar.net/newDesign/news...</td>\n",
       "    </tr>\n",
       "    <tr>\n",
       "      <th>179</th>\n",
       "      <td>1/25/2011</td>\n",
       "      <td>10</td>\n",
       "      <td>Female</td>\n",
       "      <td>student</td>\n",
       "      <td>Poison</td>\n",
       "      <td>failing in exam</td>\n",
       "      <td>not given</td>\n",
       "      <td>Shatkhira</td>\n",
       "      <td>http://archive.thedailystar.net/newDesign/news...</td>\n",
       "    </tr>\n",
       "    <tr>\n",
       "      <th>763</th>\n",
       "      <td>7/24/2013</td>\n",
       "      <td>11</td>\n",
       "      <td>Female</td>\n",
       "      <td>Student</td>\n",
       "      <td>Hanging</td>\n",
       "      <td>family feud</td>\n",
       "      <td>Evening</td>\n",
       "      <td>Magura</td>\n",
       "      <td>http://archive.thedailystar.net/beta2/news/sni...</td>\n",
       "    </tr>\n",
       "    <tr>\n",
       "      <th>478</th>\n",
       "      <td>4/3/2012</td>\n",
       "      <td>11</td>\n",
       "      <td>Male</td>\n",
       "      <td>Student</td>\n",
       "      <td>Poison</td>\n",
       "      <td>family feud</td>\n",
       "      <td>Noon</td>\n",
       "      <td>Rangpur</td>\n",
       "      <td>http://archive.thedailystar.net/newDesign/news...</td>\n",
       "    </tr>\n",
       "    <tr>\n",
       "      <th>388</th>\n",
       "      <td>11/27/2011</td>\n",
       "      <td>11</td>\n",
       "      <td>Male</td>\n",
       "      <td>student</td>\n",
       "      <td>Hanging</td>\n",
       "      <td>family feud</td>\n",
       "      <td>morning</td>\n",
       "      <td>Manikganj</td>\n",
       "      <td>http://archive.thedailystar.net/newDesign/news...</td>\n",
       "    </tr>\n",
       "    <tr>\n",
       "      <th>359</th>\n",
       "      <td>10/3/2011</td>\n",
       "      <td>11</td>\n",
       "      <td>Female</td>\n",
       "      <td>student</td>\n",
       "      <td>Hanging</td>\n",
       "      <td>family feud</td>\n",
       "      <td>not given</td>\n",
       "      <td>Manikganj</td>\n",
       "      <td>http://archive.thedailystar.net/newDesign/news...</td>\n",
       "    </tr>\n",
       "    <tr>\n",
       "      <th>626</th>\n",
       "      <td>9/29/2012</td>\n",
       "      <td>12</td>\n",
       "      <td>Female</td>\n",
       "      <td>not given</td>\n",
       "      <td>Hanging</td>\n",
       "      <td>family feud</td>\n",
       "      <td>Night</td>\n",
       "      <td>Pabna</td>\n",
       "      <td>http://archive.thedailystar.net/newDesign/news...</td>\n",
       "    </tr>\n",
       "    <tr>\n",
       "      <th>962</th>\n",
       "      <td>10/23/2014</td>\n",
       "      <td>12</td>\n",
       "      <td>Male</td>\n",
       "      <td>not given</td>\n",
       "      <td>Hanging</td>\n",
       "      <td>imitating suicide</td>\n",
       "      <td>noon</td>\n",
       "      <td>Sunamganj</td>\n",
       "      <td>http://www.thedailystar.net/boy-dies-while-imi...</td>\n",
       "    </tr>\n",
       "    <tr>\n",
       "      <th>306</th>\n",
       "      <td>7/19/2011</td>\n",
       "      <td>12</td>\n",
       "      <td>Female</td>\n",
       "      <td>student</td>\n",
       "      <td>Hanging</td>\n",
       "      <td>eve teasing</td>\n",
       "      <td>20:00:00</td>\n",
       "      <td>Dhaka</td>\n",
       "      <td>http://archive.thedailystar.net/newDesign/news...</td>\n",
       "    </tr>\n",
       "    <tr>\n",
       "      <th>529</th>\n",
       "      <td>6/9/2012</td>\n",
       "      <td>12</td>\n",
       "      <td>Female</td>\n",
       "      <td>Student</td>\n",
       "      <td>Hanging</td>\n",
       "      <td>family feud</td>\n",
       "      <td>21:00:00</td>\n",
       "      <td>Thakurgaon</td>\n",
       "      <td>http://archive.thedailystar.net/newDesign/news...</td>\n",
       "    </tr>\n",
       "    <tr>\n",
       "      <th>14</th>\n",
       "      <td>2/3/2010</td>\n",
       "      <td>12</td>\n",
       "      <td>Female</td>\n",
       "      <td>Student</td>\n",
       "      <td>Hanging</td>\n",
       "      <td>eve teasing</td>\n",
       "      <td>Afternoon</td>\n",
       "      <td>Pabna</td>\n",
       "      <td>http://archive.thedailystar.net/newDesign/news...</td>\n",
       "    </tr>\n",
       "    <tr>\n",
       "      <th>75</th>\n",
       "      <td>7/19/2010</td>\n",
       "      <td>12</td>\n",
       "      <td>Female</td>\n",
       "      <td>Student</td>\n",
       "      <td>Poison</td>\n",
       "      <td>family feud</td>\n",
       "      <td>Night</td>\n",
       "      <td>Lalmonirhat</td>\n",
       "      <td>http://archive.thedailystar.net/newDesign/news...</td>\n",
       "    </tr>\n",
       "    <tr>\n",
       "      <th>688</th>\n",
       "      <td>2/8/2013</td>\n",
       "      <td>12</td>\n",
       "      <td>Female</td>\n",
       "      <td>Student</td>\n",
       "      <td>hanging</td>\n",
       "      <td>physical illness; family feud</td>\n",
       "      <td>not given</td>\n",
       "      <td>Dhaka</td>\n",
       "      <td>http://archive.thedailystar.net/newDesign/news...</td>\n",
       "    </tr>\n",
       "    <tr>\n",
       "      <th>897</th>\n",
       "      <td>5/31/2014</td>\n",
       "      <td>12</td>\n",
       "      <td>Female</td>\n",
       "      <td>not given</td>\n",
       "      <td>Hanging</td>\n",
       "      <td>mental disorder</td>\n",
       "      <td>Night</td>\n",
       "      <td>Chittagong</td>\n",
       "      <td>http://www.thedailystar.net/newsarchive/news-i...</td>\n",
       "    </tr>\n",
       "    <tr>\n",
       "      <th>679</th>\n",
       "      <td>1/10/2013</td>\n",
       "      <td>12</td>\n",
       "      <td>Female</td>\n",
       "      <td>student</td>\n",
       "      <td>hanging</td>\n",
       "      <td>family feud</td>\n",
       "      <td>Afternoon</td>\n",
       "      <td>Pabna</td>\n",
       "      <td>http://archive.thedailystar.net/newDesign/news...</td>\n",
       "    </tr>\n",
       "    <tr>\n",
       "      <th>696</th>\n",
       "      <td>3/6/2013</td>\n",
       "      <td>12</td>\n",
       "      <td>Female</td>\n",
       "      <td>not given</td>\n",
       "      <td>hanging</td>\n",
       "      <td>family feud</td>\n",
       "      <td>Morning</td>\n",
       "      <td>Bogra</td>\n",
       "      <td>http://archive.thedailystar.net/beta2/news/min...</td>\n",
       "    </tr>\n",
       "    <tr>\n",
       "      <th>327</th>\n",
       "      <td>8/16/2011</td>\n",
       "      <td>12</td>\n",
       "      <td>Female</td>\n",
       "      <td>not given</td>\n",
       "      <td>Posion</td>\n",
       "      <td>family feud</td>\n",
       "      <td>night</td>\n",
       "      <td>Kushtia</td>\n",
       "      <td>http://archive.thedailystar.net/newDesign/news...</td>\n",
       "    </tr>\n",
       "    <tr>\n",
       "      <th>640</th>\n",
       "      <td>10/22/2012</td>\n",
       "      <td>12</td>\n",
       "      <td>Male</td>\n",
       "      <td>Student</td>\n",
       "      <td>Hanging</td>\n",
       "      <td>family feud</td>\n",
       "      <td>Night</td>\n",
       "      <td>Dhaka</td>\n",
       "      <td>http://archive.thedailystar.net/newDesign/news...</td>\n",
       "    </tr>\n",
       "    <tr>\n",
       "      <th>913</th>\n",
       "      <td>6/23/2014</td>\n",
       "      <td>12</td>\n",
       "      <td>Male</td>\n",
       "      <td>Student</td>\n",
       "      <td>Hanging</td>\n",
       "      <td>family feud</td>\n",
       "      <td>Afternoon</td>\n",
       "      <td>Magura</td>\n",
       "      <td>http://www.thedailystar.net/newsarchive/snippe...</td>\n",
       "    </tr>\n",
       "  </tbody>\n",
       "</table>\n",
       "</div>"
      ],
      "text/plain": [
       "           Date  Age  Gender Profession Methodology  \\\n",
       "472   3/30/2012    8    Male    Student     Hanging   \n",
       "627   9/30/2012   10  Female    Student      Poison   \n",
       "188    2/8/2011   10  Female    student      Poison   \n",
       "636  10/20/2012   10  Female  not given     Hanging   \n",
       "230    4/5/2011   10    Male    student      Poison   \n",
       "670  12/24/2012   10  Female    Student     Hanging   \n",
       "592    9/4/2012   10    Male    Student     Hanging   \n",
       "179   1/25/2011   10  Female    student      Poison   \n",
       "763   7/24/2013   11  Female    Student     Hanging   \n",
       "478    4/3/2012   11    Male    Student      Poison   \n",
       "388  11/27/2011   11    Male    student     Hanging   \n",
       "359   10/3/2011   11  Female    student     Hanging   \n",
       "626   9/29/2012   12  Female  not given     Hanging   \n",
       "962  10/23/2014   12    Male  not given     Hanging   \n",
       "306   7/19/2011   12  Female    student     Hanging   \n",
       "529    6/9/2012   12  Female    Student     Hanging   \n",
       "14     2/3/2010   12  Female    Student     Hanging   \n",
       "75    7/19/2010   12  Female    Student      Poison   \n",
       "688    2/8/2013   12  Female    Student     hanging   \n",
       "897   5/31/2014   12  Female  not given     Hanging   \n",
       "679   1/10/2013   12  Female    student     hanging   \n",
       "696    3/6/2013   12  Female  not given     hanging   \n",
       "327   8/16/2011   12  Female  not given      Posion   \n",
       "640  10/22/2012   12    Male    Student     Hanging   \n",
       "913   6/23/2014   12    Male    Student     Hanging   \n",
       "\n",
       "                            Reason       Time     District  \\\n",
       "472                    family feud   20:30:00        Dhaka   \n",
       "627                     allegation   23:30:00      Jessore   \n",
       "188                    family feud  not given    Shatkhira   \n",
       "636               physical illness  not given        Dhaka   \n",
       "230                    family feud  not given    Shatkhira   \n",
       "670                    family feud  not given        Dhaka   \n",
       "592                    family feud    0:30:00        Dhaka   \n",
       "179                failing in exam  not given    Shatkhira   \n",
       "763                    family feud    Evening       Magura   \n",
       "478                    family feud       Noon      Rangpur   \n",
       "388                    family feud    morning    Manikganj   \n",
       "359                    family feud  not given    Manikganj   \n",
       "626                    family feud      Night        Pabna   \n",
       "962              imitating suicide       noon    Sunamganj   \n",
       "306                    eve teasing   20:00:00        Dhaka   \n",
       "529                    family feud   21:00:00   Thakurgaon   \n",
       "14                     eve teasing  Afternoon        Pabna   \n",
       "75                     family feud      Night  Lalmonirhat   \n",
       "688  physical illness; family feud  not given        Dhaka   \n",
       "897                mental disorder      Night   Chittagong   \n",
       "679                    family feud  Afternoon        Pabna   \n",
       "696                    family feud    Morning        Bogra   \n",
       "327                    family feud      night      Kushtia   \n",
       "640                    family feud      Night        Dhaka   \n",
       "913                    family feud  Afternoon       Magura   \n",
       "\n",
       "                                                Source  \n",
       "472  http://archive.thedailystar.net/newDesign/news...  \n",
       "627  http://archive.thedailystar.net/newDesign/news...  \n",
       "188  http://archive.thedailystar.net/newDesign/news...  \n",
       "636  http://archive.thedailystar.net/newDesign/news...  \n",
       "230  http://archive.thedailystar.net/newDesign/news...  \n",
       "670  http://archive.thedailystar.net/newDesign/news...  \n",
       "592  http://archive.thedailystar.net/newDesign/news...  \n",
       "179  http://archive.thedailystar.net/newDesign/news...  \n",
       "763  http://archive.thedailystar.net/beta2/news/sni...  \n",
       "478  http://archive.thedailystar.net/newDesign/news...  \n",
       "388  http://archive.thedailystar.net/newDesign/news...  \n",
       "359  http://archive.thedailystar.net/newDesign/news...  \n",
       "626  http://archive.thedailystar.net/newDesign/news...  \n",
       "962  http://www.thedailystar.net/boy-dies-while-imi...  \n",
       "306  http://archive.thedailystar.net/newDesign/news...  \n",
       "529  http://archive.thedailystar.net/newDesign/news...  \n",
       "14   http://archive.thedailystar.net/newDesign/news...  \n",
       "75   http://archive.thedailystar.net/newDesign/news...  \n",
       "688  http://archive.thedailystar.net/newDesign/news...  \n",
       "897  http://www.thedailystar.net/newsarchive/news-i...  \n",
       "679  http://archive.thedailystar.net/newDesign/news...  \n",
       "696  http://archive.thedailystar.net/beta2/news/min...  \n",
       "327  http://archive.thedailystar.net/newDesign/news...  \n",
       "640  http://archive.thedailystar.net/newDesign/news...  \n",
       "913  http://www.thedailystar.net/newsarchive/snippe...  "
      ]
     },
     "execution_count": 84,
     "metadata": {},
     "output_type": "execute_result"
    }
   ],
   "source": [
    "df_8_12"
   ]
  },
  {
   "cell_type": "code",
   "execution_count": null,
   "metadata": {
    "collapsed": true
   },
   "outputs": [],
   "source": []
  }
 ],
 "metadata": {
  "kernelspec": {
   "display_name": "Python [Root]",
   "language": "python",
   "name": "Python [Root]"
  },
  "language_info": {
   "codemirror_mode": {
    "name": "ipython",
    "version": 3
   },
   "file_extension": ".py",
   "mimetype": "text/x-python",
   "name": "python",
   "nbconvert_exporter": "python",
   "pygments_lexer": "ipython3",
   "version": "3.5.2"
  }
 },
 "nbformat": 4,
 "nbformat_minor": 0
}
