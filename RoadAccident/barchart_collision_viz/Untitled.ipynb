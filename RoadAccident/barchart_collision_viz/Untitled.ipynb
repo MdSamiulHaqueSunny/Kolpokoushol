{
 "cells": [
  {
   "cell_type": "code",
   "execution_count": 16,
   "metadata": {
    "collapsed": true
   },
   "outputs": [],
   "source": [
    "import pandas as pd\n",
    "df = pd.read_csv('Count by vehicles[Bar]].tsv', sep='\\t')"
   ]
  },
  {
   "cell_type": "code",
   "execution_count": 17,
   "metadata": {
    "collapsed": false
   },
   "outputs": [
    {
     "data": {
      "text/plain": [
       "Index([u'Vehicles', u'count_sum'], dtype='object')"
      ]
     },
     "execution_count": 17,
     "metadata": {},
     "output_type": "execute_result"
    }
   ],
   "source": [
    "df.columns"
   ]
  },
  {
   "cell_type": "code",
   "execution_count": 20,
   "metadata": {
    "collapsed": false
   },
   "outputs": [],
   "source": [
    "with open('outfile_vehicle.txt', 'w') as f:\n",
    "    f.write('[\\n')\n",
    "    for i in range(df.shape[0]):\n",
    "        data_to_write = \"{\\\"count_sum\\\": %s, \\\"Vehicle\\\": \\\"%s\\\", \\\"group\\\" : \\\"%s\\\"}\" % (int(df['count_sum'][i]), df['Vehicles'][i], df['Vehicles'][i]) \n",
    "        f.write(data_to_write + ',\\n')\n",
    "    f.write(']\\n')\n",
    "f.close()"
   ]
  },
  {
   "cell_type": "code",
   "execution_count": null,
   "metadata": {
    "collapsed": true
   },
   "outputs": [],
   "source": []
  }
 ],
 "metadata": {
  "anaconda-cloud": {},
  "kernelspec": {
   "display_name": "Python 2",
   "language": "python",
   "name": "python2"
  },
  "language_info": {
   "codemirror_mode": {
    "name": "ipython",
    "version": 2
   },
   "file_extension": ".py",
   "mimetype": "text/x-python",
   "name": "python",
   "nbconvert_exporter": "python",
   "pygments_lexer": "ipython2",
   "version": "2.7.12"
  }
 },
 "nbformat": 4,
 "nbformat_minor": 1
}
