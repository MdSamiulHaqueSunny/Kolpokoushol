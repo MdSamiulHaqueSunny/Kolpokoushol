{
 "cells": [
  {
   "cell_type": "code",
   "execution_count": 1,
   "metadata": {
    "collapsed": true
   },
   "outputs": [],
   "source": [
    "import pandas as pd"
   ]
  },
  {
   "cell_type": "code",
   "execution_count": 13,
   "metadata": {
    "collapsed": true
   },
   "outputs": [],
   "source": [
    "df = pd.read_csv('District and vehicles.tsv', sep='\\t')"
   ]
  },
  {
   "cell_type": "code",
   "execution_count": 14,
   "metadata": {
    "collapsed": false
   },
   "outputs": [
    {
     "data": {
      "text/plain": [
       "(138, 3)"
      ]
     },
     "execution_count": 14,
     "metadata": {},
     "output_type": "execute_result"
    }
   ],
   "source": [
    "df.shape"
   ]
  },
  {
   "cell_type": "code",
   "execution_count": 7,
   "metadata": {
    "collapsed": false
   },
   "outputs": [],
   "source": [
    "df = df[df['Vehicles'] != 'null']"
   ]
  },
  {
   "cell_type": "code",
   "execution_count": 8,
   "metadata": {
    "collapsed": true
   },
   "outputs": [],
   "source": [
    "df = df[df['District'] != 'null']"
   ]
  },
  {
   "cell_type": "code",
   "execution_count": 11,
   "metadata": {
    "collapsed": false
   },
   "outputs": [],
   "source": [
    "df2 = df"
   ]
  },
  {
   "cell_type": "code",
   "execution_count": 12,
   "metadata": {
    "collapsed": false
   },
   "outputs": [
    {
     "data": {
      "text/plain": [
       "(71, 3)"
      ]
     },
     "execution_count": 12,
     "metadata": {},
     "output_type": "execute_result"
    }
   ],
   "source": [
    "df2.shape"
   ]
  },
  {
   "cell_type": "code",
   "execution_count": 16,
   "metadata": {
    "collapsed": false
   },
   "outputs": [
    {
     "data": {
      "text/plain": [
       "Index(['District', 'Vehicles', 'count_sum'], dtype='object')"
      ]
     },
     "execution_count": 16,
     "metadata": {},
     "output_type": "execute_result"
    }
   ],
   "source": [
    "df2.columns"
   ]
  },
  {
   "cell_type": "code",
   "execution_count": 18,
   "metadata": {
    "collapsed": false
   },
   "outputs": [
    {
     "data": {
      "text/plain": [
       "4               khulna\n",
       "5               magura\n",
       "6              gazipur\n",
       "12           madaripur\n",
       "22             comilla\n",
       "23               bogra\n",
       "30          chittagong\n",
       "31        khagrachhari\n",
       "33             barisal\n",
       "34              sylhet\n",
       "35               dhaka\n",
       "36             tangail\n",
       "37            rajshahi\n",
       "44          chittagong\n",
       "45        brahmanbaria\n",
       "46           netrakona\n",
       "50               dhaka\n",
       "54              khulna\n",
       "60               bogra\n",
       "61            rajshahi\n",
       "62          patuakhali\n",
       "67               dhaka\n",
       "68             rangpur\n",
       "69               dhaka\n",
       "70         narayanganj\n",
       "82            rajshahi\n",
       "85           gopalganj\n",
       "87         narayanganj\n",
       "88     chapainawabganj\n",
       "89           madaripur\n",
       "            ...       \n",
       "103          dinajpuri\n",
       "104          manikganj\n",
       "105         nilphamari\n",
       "106              dhaka\n",
       "108            barisal\n",
       "110      dhaka,barisal\n",
       "111         shariatpur\n",
       "112           dinajpur\n",
       "114         chittagong\n",
       "115        moulvibazar\n",
       "116          chuadanga\n",
       "117            jessore\n",
       "118            gazipur\n",
       "119          manikganj\n",
       "120              dhaka\n",
       "121           faridpur\n",
       "123             khulna\n",
       "124            tangail\n",
       "125            jessore\n",
       "126          rangamati\n",
       "127          joypurhat\n",
       "128          sunamganj\n",
       "129              dhaka\n",
       "130           dinajpur\n",
       "132              bogra\n",
       "133           chandpur\n",
       "134           rajshahi\n",
       "135            comilla\n",
       "136           habiganj\n",
       "137           bagerhat\n",
       "Name: District, dtype: object"
      ]
     },
     "execution_count": 18,
     "metadata": {},
     "output_type": "execute_result"
    }
   ],
   "source": [
    "df2['District']"
   ]
  },
  {
   "cell_type": "code",
   "execution_count": 25,
   "metadata": {
    "collapsed": true
   },
   "outputs": [],
   "source": [
    "df_vehicles = pd.read_csv('vehiclecollision.tsv', sep='\\t')"
   ]
  },
  {
   "cell_type": "code",
   "execution_count": 26,
   "metadata": {
    "collapsed": false
   },
   "outputs": [],
   "source": [
    "df_vehicles = df_vehicles[df_vehicles['Vehicle'] != 'null']"
   ]
  },
  {
   "cell_type": "code",
   "execution_count": 28,
   "metadata": {
    "collapsed": false
   },
   "outputs": [],
   "source": [
    "df_vehicles = df_vehicles[df_vehicles['Location'] != 'null']"
   ]
  },
  {
   "cell_type": "code",
   "execution_count": 29,
   "metadata": {
    "collapsed": true
   },
   "outputs": [],
   "source": [
    "import numpy as np\n",
    "df_vehicles = df_vehicles[df_vehicles['Location'] != np.NaN]"
   ]
  },
  {
   "cell_type": "code",
   "execution_count": 32,
   "metadata": {
    "collapsed": false
   },
   "outputs": [],
   "source": [
    "df_vehicles = df_vehicles[df_vehicles['Vehicle'] != 'NaN']"
   ]
  },
  {
   "cell_type": "code",
   "execution_count": 33,
   "metadata": {
    "collapsed": true
   },
   "outputs": [],
   "source": [
    "df_vehicles = df_vehicles[df_vehicles['Location'] != 'NaN']"
   ]
  },
  {
   "cell_type": "code",
   "execution_count": 34,
   "metadata": {
    "collapsed": false
   },
   "outputs": [
    {
     "data": {
      "text/html": [
       "<div>\n",
       "<table border=\"1\" class=\"dataframe\">\n",
       "  <thead>\n",
       "    <tr style=\"text-align: right;\">\n",
       "      <th></th>\n",
       "      <th>Vehicle</th>\n",
       "      <th>Location</th>\n",
       "      <th>count</th>\n",
       "    </tr>\n",
       "  </thead>\n",
       "  <tbody>\n",
       "    <tr>\n",
       "      <th>0</th>\n",
       "      <td>ambulance</td>\n",
       "      <td>dhaka</td>\n",
       "      <td>1.0</td>\n",
       "    </tr>\n",
       "    <tr>\n",
       "      <th>1</th>\n",
       "      <td>bus</td>\n",
       "      <td>barisal</td>\n",
       "      <td>6.0</td>\n",
       "    </tr>\n",
       "    <tr>\n",
       "      <th>2</th>\n",
       "      <td>bus</td>\n",
       "      <td>bogra</td>\n",
       "      <td>2.0</td>\n",
       "    </tr>\n",
       "    <tr>\n",
       "      <th>3</th>\n",
       "      <td>bus</td>\n",
       "      <td>brahmanbaria</td>\n",
       "      <td>2.0</td>\n",
       "    </tr>\n",
       "    <tr>\n",
       "      <th>4</th>\n",
       "      <td>bus</td>\n",
       "      <td>chandpur</td>\n",
       "      <td>1.0</td>\n",
       "    </tr>\n",
       "    <tr>\n",
       "      <th>5</th>\n",
       "      <td>bus</td>\n",
       "      <td>chittagong</td>\n",
       "      <td>7.0</td>\n",
       "    </tr>\n",
       "    <tr>\n",
       "      <th>6</th>\n",
       "      <td>bus</td>\n",
       "      <td>comilla</td>\n",
       "      <td>3.0</td>\n",
       "    </tr>\n",
       "    <tr>\n",
       "      <th>7</th>\n",
       "      <td>bus</td>\n",
       "      <td>dhaka</td>\n",
       "      <td>13.0</td>\n",
       "    </tr>\n",
       "    <tr>\n",
       "      <th>9</th>\n",
       "      <td>bus</td>\n",
       "      <td>faridpur</td>\n",
       "      <td>1.0</td>\n",
       "    </tr>\n",
       "    <tr>\n",
       "      <th>10</th>\n",
       "      <td>bus</td>\n",
       "      <td>gazipur</td>\n",
       "      <td>1.0</td>\n",
       "    </tr>\n",
       "    <tr>\n",
       "      <th>11</th>\n",
       "      <td>bus</td>\n",
       "      <td>gopalganj</td>\n",
       "      <td>1.0</td>\n",
       "    </tr>\n",
       "    <tr>\n",
       "      <th>12</th>\n",
       "      <td>bus</td>\n",
       "      <td>jessore</td>\n",
       "      <td>1.0</td>\n",
       "    </tr>\n",
       "    <tr>\n",
       "      <th>13</th>\n",
       "      <td>bus</td>\n",
       "      <td>joypurhat</td>\n",
       "      <td>1.0</td>\n",
       "    </tr>\n",
       "    <tr>\n",
       "      <th>14</th>\n",
       "      <td>bus</td>\n",
       "      <td>khulna</td>\n",
       "      <td>3.0</td>\n",
       "    </tr>\n",
       "    <tr>\n",
       "      <th>15</th>\n",
       "      <td>bus</td>\n",
       "      <td>madaripur</td>\n",
       "      <td>1.0</td>\n",
       "    </tr>\n",
       "    <tr>\n",
       "      <th>16</th>\n",
       "      <td>bus</td>\n",
       "      <td>magura</td>\n",
       "      <td>1.0</td>\n",
       "    </tr>\n",
       "    <tr>\n",
       "      <th>17</th>\n",
       "      <td>bus</td>\n",
       "      <td>manikganj</td>\n",
       "      <td>2.0</td>\n",
       "    </tr>\n",
       "    <tr>\n",
       "      <th>18</th>\n",
       "      <td>bus</td>\n",
       "      <td>moulvibazar</td>\n",
       "      <td>1.0</td>\n",
       "    </tr>\n",
       "    <tr>\n",
       "      <th>19</th>\n",
       "      <td>bus</td>\n",
       "      <td>mymensingh</td>\n",
       "      <td>1.0</td>\n",
       "    </tr>\n",
       "    <tr>\n",
       "      <th>20</th>\n",
       "      <td>bus</td>\n",
       "      <td>narayanganj</td>\n",
       "      <td>1.0</td>\n",
       "    </tr>\n",
       "    <tr>\n",
       "      <th>21</th>\n",
       "      <td>bus</td>\n",
       "      <td>netrakona</td>\n",
       "      <td>2.0</td>\n",
       "    </tr>\n",
       "    <tr>\n",
       "      <th>22</th>\n",
       "      <td>bus</td>\n",
       "      <td>patuakhali</td>\n",
       "      <td>1.0</td>\n",
       "    </tr>\n",
       "    <tr>\n",
       "      <th>23</th>\n",
       "      <td>bus</td>\n",
       "      <td>rajshahi</td>\n",
       "      <td>6.0</td>\n",
       "    </tr>\n",
       "    <tr>\n",
       "      <th>24</th>\n",
       "      <td>bus</td>\n",
       "      <td>rangamati</td>\n",
       "      <td>1.0</td>\n",
       "    </tr>\n",
       "    <tr>\n",
       "      <th>25</th>\n",
       "      <td>bus</td>\n",
       "      <td>rangpur</td>\n",
       "      <td>2.0</td>\n",
       "    </tr>\n",
       "    <tr>\n",
       "      <th>26</th>\n",
       "      <td>bus</td>\n",
       "      <td>shariatpur</td>\n",
       "      <td>2.0</td>\n",
       "    </tr>\n",
       "    <tr>\n",
       "      <th>27</th>\n",
       "      <td>bus</td>\n",
       "      <td>sunamganj</td>\n",
       "      <td>1.0</td>\n",
       "    </tr>\n",
       "    <tr>\n",
       "      <th>28</th>\n",
       "      <td>bus</td>\n",
       "      <td>tangail</td>\n",
       "      <td>1.0</td>\n",
       "    </tr>\n",
       "    <tr>\n",
       "      <th>29</th>\n",
       "      <td>bus,bus</td>\n",
       "      <td>chittagong</td>\n",
       "      <td>1.0</td>\n",
       "    </tr>\n",
       "    <tr>\n",
       "      <th>30</th>\n",
       "      <td>bus,bus</td>\n",
       "      <td>comilla</td>\n",
       "      <td>1.0</td>\n",
       "    </tr>\n",
       "    <tr>\n",
       "      <th>...</th>\n",
       "      <td>...</td>\n",
       "      <td>...</td>\n",
       "      <td>...</td>\n",
       "    </tr>\n",
       "    <tr>\n",
       "      <th>105</th>\n",
       "      <td>microbus</td>\n",
       "      <td>chuadanga</td>\n",
       "      <td>1.0</td>\n",
       "    </tr>\n",
       "    <tr>\n",
       "      <th>106</th>\n",
       "      <td>microbus</td>\n",
       "      <td>dhaka</td>\n",
       "      <td>3.0</td>\n",
       "    </tr>\n",
       "    <tr>\n",
       "      <th>107</th>\n",
       "      <td>microbus</td>\n",
       "      <td>rajshahi</td>\n",
       "      <td>1.0</td>\n",
       "    </tr>\n",
       "    <tr>\n",
       "      <th>109</th>\n",
       "      <td>truck</td>\n",
       "      <td>NaN</td>\n",
       "      <td>NaN</td>\n",
       "    </tr>\n",
       "    <tr>\n",
       "      <th>110</th>\n",
       "      <td>truck</td>\n",
       "      <td>chittagong</td>\n",
       "      <td>2.0</td>\n",
       "    </tr>\n",
       "    <tr>\n",
       "      <th>111</th>\n",
       "      <td>truck</td>\n",
       "      <td>dhaka</td>\n",
       "      <td>4.0</td>\n",
       "    </tr>\n",
       "    <tr>\n",
       "      <th>112</th>\n",
       "      <td>truck</td>\n",
       "      <td>dhaka,barisal</td>\n",
       "      <td>1.0</td>\n",
       "    </tr>\n",
       "    <tr>\n",
       "      <th>113</th>\n",
       "      <td>truck</td>\n",
       "      <td>dinajpur</td>\n",
       "      <td>1.0</td>\n",
       "    </tr>\n",
       "    <tr>\n",
       "      <th>114</th>\n",
       "      <td>truck</td>\n",
       "      <td>gazipur</td>\n",
       "      <td>1.0</td>\n",
       "    </tr>\n",
       "    <tr>\n",
       "      <th>115</th>\n",
       "      <td>truck</td>\n",
       "      <td>jessore</td>\n",
       "      <td>1.0</td>\n",
       "    </tr>\n",
       "    <tr>\n",
       "      <th>116</th>\n",
       "      <td>truck</td>\n",
       "      <td>khagrachhari</td>\n",
       "      <td>2.0</td>\n",
       "    </tr>\n",
       "    <tr>\n",
       "      <th>117</th>\n",
       "      <td>truck</td>\n",
       "      <td>madaripur</td>\n",
       "      <td>1.0</td>\n",
       "    </tr>\n",
       "    <tr>\n",
       "      <th>118</th>\n",
       "      <td>truck</td>\n",
       "      <td>moulvibazar</td>\n",
       "      <td>1.0</td>\n",
       "    </tr>\n",
       "    <tr>\n",
       "      <th>119</th>\n",
       "      <td>truck</td>\n",
       "      <td>rajshahi</td>\n",
       "      <td>1.0</td>\n",
       "    </tr>\n",
       "    <tr>\n",
       "      <th>120</th>\n",
       "      <td>truck,bus</td>\n",
       "      <td>bogra</td>\n",
       "      <td>1.0</td>\n",
       "    </tr>\n",
       "    <tr>\n",
       "      <th>121</th>\n",
       "      <td>jeep,bus</td>\n",
       "      <td>NaN</td>\n",
       "      <td>NaN</td>\n",
       "    </tr>\n",
       "    <tr>\n",
       "      <th>122</th>\n",
       "      <td>jeep,bus</td>\n",
       "      <td>dinajpuri</td>\n",
       "      <td>1.0</td>\n",
       "    </tr>\n",
       "    <tr>\n",
       "      <th>123</th>\n",
       "      <td>jeep,bus</td>\n",
       "      <td>manikganj</td>\n",
       "      <td>1.0</td>\n",
       "    </tr>\n",
       "    <tr>\n",
       "      <th>124</th>\n",
       "      <td>jeep,bus</td>\n",
       "      <td>nilphamari</td>\n",
       "      <td>1.0</td>\n",
       "    </tr>\n",
       "    <tr>\n",
       "      <th>125</th>\n",
       "      <td>jeep,bus</td>\n",
       "      <td>sirajganj</td>\n",
       "      <td>1.0</td>\n",
       "    </tr>\n",
       "    <tr>\n",
       "      <th>126</th>\n",
       "      <td>rickshaw,bus</td>\n",
       "      <td>NaN</td>\n",
       "      <td>NaN</td>\n",
       "    </tr>\n",
       "    <tr>\n",
       "      <th>127</th>\n",
       "      <td>rickshaw,bus</td>\n",
       "      <td>dhaka</td>\n",
       "      <td>1.0</td>\n",
       "    </tr>\n",
       "    <tr>\n",
       "      <th>128</th>\n",
       "      <td>rickshaw,bus</td>\n",
       "      <td>rajshahi</td>\n",
       "      <td>2.0</td>\n",
       "    </tr>\n",
       "    <tr>\n",
       "      <th>129</th>\n",
       "      <td>rickshaw,bus</td>\n",
       "      <td>sylhet</td>\n",
       "      <td>1.0</td>\n",
       "    </tr>\n",
       "    <tr>\n",
       "      <th>130</th>\n",
       "      <td>rickshaw,bus</td>\n",
       "      <td>tangail</td>\n",
       "      <td>2.0</td>\n",
       "    </tr>\n",
       "    <tr>\n",
       "      <th>131</th>\n",
       "      <td>tempo,truck</td>\n",
       "      <td>NaN</td>\n",
       "      <td>NaN</td>\n",
       "    </tr>\n",
       "    <tr>\n",
       "      <th>132</th>\n",
       "      <td>tempo,truck</td>\n",
       "      <td>dhaka</td>\n",
       "      <td>1.0</td>\n",
       "    </tr>\n",
       "    <tr>\n",
       "      <th>133</th>\n",
       "      <td>tempo,truck</td>\n",
       "      <td>tempo</td>\n",
       "      <td>NaN</td>\n",
       "    </tr>\n",
       "    <tr>\n",
       "      <th>134</th>\n",
       "      <td>tempo,truck</td>\n",
       "      <td>khulna</td>\n",
       "      <td>1.0</td>\n",
       "    </tr>\n",
       "    <tr>\n",
       "      <th>135</th>\n",
       "      <td>caravan,bus</td>\n",
       "      <td>tangail</td>\n",
       "      <td>1.0</td>\n",
       "    </tr>\n",
       "  </tbody>\n",
       "</table>\n",
       "<p>132 rows × 3 columns</p>\n",
       "</div>"
      ],
      "text/plain": [
       "          Vehicle       Location  count\n",
       "0       ambulance          dhaka    1.0\n",
       "1             bus        barisal    6.0\n",
       "2             bus          bogra    2.0\n",
       "3             bus   brahmanbaria    2.0\n",
       "4             bus       chandpur    1.0\n",
       "5             bus     chittagong    7.0\n",
       "6             bus        comilla    3.0\n",
       "7             bus          dhaka   13.0\n",
       "9             bus       faridpur    1.0\n",
       "10            bus        gazipur    1.0\n",
       "11            bus      gopalganj    1.0\n",
       "12            bus        jessore    1.0\n",
       "13            bus      joypurhat    1.0\n",
       "14            bus         khulna    3.0\n",
       "15            bus      madaripur    1.0\n",
       "16            bus         magura    1.0\n",
       "17            bus      manikganj    2.0\n",
       "18            bus    moulvibazar    1.0\n",
       "19            bus     mymensingh    1.0\n",
       "20            bus    narayanganj    1.0\n",
       "21            bus      netrakona    2.0\n",
       "22            bus     patuakhali    1.0\n",
       "23            bus       rajshahi    6.0\n",
       "24            bus      rangamati    1.0\n",
       "25            bus        rangpur    2.0\n",
       "26            bus     shariatpur    2.0\n",
       "27            bus      sunamganj    1.0\n",
       "28            bus        tangail    1.0\n",
       "29        bus,bus     chittagong    1.0\n",
       "30        bus,bus        comilla    1.0\n",
       "..            ...            ...    ...\n",
       "105      microbus      chuadanga    1.0\n",
       "106      microbus          dhaka    3.0\n",
       "107      microbus       rajshahi    1.0\n",
       "109         truck            NaN    NaN\n",
       "110         truck     chittagong    2.0\n",
       "111         truck          dhaka    4.0\n",
       "112         truck  dhaka,barisal    1.0\n",
       "113         truck       dinajpur    1.0\n",
       "114         truck        gazipur    1.0\n",
       "115         truck        jessore    1.0\n",
       "116         truck   khagrachhari    2.0\n",
       "117         truck      madaripur    1.0\n",
       "118         truck    moulvibazar    1.0\n",
       "119         truck       rajshahi    1.0\n",
       "120     truck,bus          bogra    1.0\n",
       "121      jeep,bus            NaN    NaN\n",
       "122      jeep,bus      dinajpuri    1.0\n",
       "123      jeep,bus      manikganj    1.0\n",
       "124      jeep,bus     nilphamari    1.0\n",
       "125      jeep,bus      sirajganj    1.0\n",
       "126  rickshaw,bus            NaN    NaN\n",
       "127  rickshaw,bus          dhaka    1.0\n",
       "128  rickshaw,bus       rajshahi    2.0\n",
       "129  rickshaw,bus         sylhet    1.0\n",
       "130  rickshaw,bus        tangail    2.0\n",
       "131   tempo,truck            NaN    NaN\n",
       "132   tempo,truck          dhaka    1.0\n",
       "133   tempo,truck          tempo    NaN\n",
       "134   tempo,truck         khulna    1.0\n",
       "135   caravan,bus        tangail    1.0\n",
       "\n",
       "[132 rows x 3 columns]"
      ]
     },
     "execution_count": 34,
     "metadata": {},
     "output_type": "execute_result"
    }
   ],
   "source": [
    "df_vehicles"
   ]
  },
  {
   "cell_type": "code",
   "execution_count": null,
   "metadata": {
    "collapsed": true
   },
   "outputs": [],
   "source": []
  }
 ],
 "metadata": {
  "kernelspec": {
   "display_name": "Python [Root]",
   "language": "python",
   "name": "Python [Root]"
  },
  "language_info": {
   "codemirror_mode": {
    "name": "ipython",
    "version": 3
   },
   "file_extension": ".py",
   "mimetype": "text/x-python",
   "name": "python",
   "nbconvert_exporter": "python",
   "pygments_lexer": "ipython3",
   "version": "3.5.2"
  }
 },
 "nbformat": 4,
 "nbformat_minor": 0
}
